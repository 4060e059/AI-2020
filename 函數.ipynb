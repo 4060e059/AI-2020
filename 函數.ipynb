{
  "nbformat": 4,
  "nbformat_minor": 0,
  "metadata": {
    "colab": {
      "name": "函數.ipynb",
      "provenance": [],
      "private_outputs": true,
      "authorship_tag": "ABX9TyPPMwOrvSFh5LI4srQCGgf5",
      "include_colab_link": true
    },
    "kernelspec": {
      "name": "python3",
      "display_name": "Python 3"
    }
  },
  "cells": [
    {
      "cell_type": "markdown",
      "metadata": {
        "id": "view-in-github",
        "colab_type": "text"
      },
      "source": [
        "<a href=\"https://colab.research.google.com/github/4060e059/base-python/blob/master/%E5%87%BD%E6%95%B8.ipynb\" target=\"_parent\"><img src=\"https://colab.research.google.com/assets/colab-badge.svg\" alt=\"Open In Colab\"/></a>"
      ]
    },
    {
      "cell_type": "code",
      "metadata": {
        "id": "bCfBzz1iUCQJ",
        "colab_type": "code",
        "colab": {}
      },
      "source": [
        "def sum(i1, i2):\n",
        "    result = 0\n",
        "    for i in range(i1, i2):\n",
        "        result += i\n",
        "    return result\n",
        "\n",
        "def main():\n",
        "    print(\"Sum from 1 to 10 is\", sum(1, 11)) \n",
        "    print(\"Sum from 20 to 37 is\", sum(20, 38))\n",
        "    print(\"Sum from 35 to 49 is\", sum(35, 50))\n",
        "\n",
        "main() # Call the main function"
      ],
      "execution_count": null,
      "outputs": []
    },
    {
      "cell_type": "code",
      "metadata": {
        "id": "IrGnT175UbUh",
        "colab_type": "code",
        "colab": {}
      },
      "source": [
        "if __name__ == '__main__':\n",
        "    x = 10\n",
        "    y = 20\n",
        "    print('x = %d,y = %d' % (x,y))\n",
        "    x,y = swap(x,y)\n",
        "    print('x = %d,y = %d' % (x,y))"
      ],
      "execution_count": null,
      "outputs": []
    },
    {
      "cell_type": "code",
      "metadata": {
        "id": "snS50PeTUlNG",
        "colab_type": "code",
        "colab": {}
      },
      "source": [
        "def demo():\n",
        "    \"\"\"函數的文件字串\"\"\"\n",
        "    pass\n",
        "    \n",
        "print(demo.__doc__)\n",
        "\n",
        "def swap(a,b):\n",
        "    \"\"\"\n",
        "    swap(a,b)功能是.................\n",
        "    \"\"\" \n",
        "    a,b = b,a\n",
        "    return (a,b)\n",
        "\n",
        "print(swap(3,5))\n",
        "print(swap.__doc__)"
      ],
      "execution_count": null,
      "outputs": []
    },
    {
      "cell_type": "code",
      "metadata": {
        "id": "ow62OcprVBaP",
        "colab_type": "code",
        "colab": {}
      },
      "source": [
        "def sort(number1, number2):\n",
        "    if number1 < number2:\n",
        "        return number1, number2\n",
        "    else:\n",
        "        return number2, number1\n",
        "\n",
        "num1, num2 = sort(31, 25)\n",
        "\n",
        "print(\"num1 is\", num1)\n",
        "print(\"num2 is\", num2)"
      ],
      "execution_count": null,
      "outputs": []
    },
    {
      "cell_type": "code",
      "metadata": {
        "id": "XAPNAEsoVY-W",
        "colab_type": "code",
        "colab": {}
      },
      "source": [
        "def printArea(width = 11, height = 12):\n",
        "    area = width * height\n",
        "    print(\"width:\", width, \"\\theight:\", height, \"\\tarea:\", area)\n",
        "\n",
        "printArea() \n",
        "printArea(4, 2.5) # Positional arguments width = 4 and height = 2.5\n",
        "printArea(height = 5, width = 3) # Keyword arguments width \n",
        "printArea(width = 1.2) # Default height = 2\n",
        "printArea(height = 6.2) # Default widht = 1"
      ],
      "execution_count": null,
      "outputs": []
    },
    {
      "cell_type": "code",
      "metadata": {
        "id": "U0ZvQVsPVl7A",
        "colab_type": "code",
        "colab": {}
      },
      "source": [
        "def hello_3(greeting='Hello', name='world'): \n",
        "    print('{}, {}!'.format(greeting, name)) \n",
        "\n",
        "    \n",
        "hello_3() \n",
        "hello_3('Greetings') \n",
        "hello_3('Greetings', 'universe')\n",
        "hello_3(name='GGGGGGoood')\n",
        "\n",
        "#列印出來的方式，第1個直接列印，第2第3是因為有輸入其他的文字而改變，第4是因為name=''改變"
      ],
      "execution_count": null,
      "outputs": []
    },
    {
      "cell_type": "code",
      "metadata": {
        "id": "zMmSI5oqWwAI",
        "colab_type": "code",
        "colab": {}
      },
      "source": [
        "params = {'name': 'Sir Simon Rattle', 'greeting': 'To my Great Conductor'}\n",
        "hello_3(**params)"
      ],
      "execution_count": null,
      "outputs": []
    },
    {
      "cell_type": "code",
      "metadata": {
        "id": "Bao-gOiyW-fN",
        "colab_type": "code",
        "colab": {}
      },
      "source": [
        "def print_params(*params): \n",
        "    print(params) \n",
        "\n",
        "print_params('Testing') \n",
        "\n",
        "print_params(1, 2, 3) \n",
        "\n",
        "# return的是tuple資料型態\n",
        "\n",
        "#可和一般參數齊用\n",
        "\n",
        "def print_params_2(title, *params): \n",
        "    print(title) \n",
        "    print(params)\n",
        "\n",
        "print_params_2('Params:', 1, 2, 3)\n",
        "print_params_2('Nothing:')"
      ],
      "execution_count": null,
      "outputs": []
    },
    {
      "cell_type": "code",
      "metadata": {
        "id": "0VOaiMEFXGjl",
        "colab_type": "code",
        "colab": {}
      },
      "source": [
        "def print_params_3(**params): \n",
        "    print(params) \n",
        "\n",
        "print_params_3(x=1, y=2, z=3) \n",
        "\n",
        "# return的是dict(字典資料型態)\n",
        "\n",
        "def print_params_4(x, y, z=3, *pospar, **keypar): \n",
        "    print(x, y, z) \n",
        "    print(pospar) \n",
        "    print(keypar) \n",
        "\n",
        "print_params_4(1, 2, 4, 5, 6, 7, foo=1, bar=2)\n",
        "\n",
        "print_params_4(1, 2)"
      ],
      "execution_count": null,
      "outputs": []
    },
    {
      "cell_type": "code",
      "metadata": {
        "id": "R88WJtTaXNJ1",
        "colab_type": "code",
        "colab": {}
      },
      "source": [
        "x = 111\n",
        "\n",
        "def f1():\n",
        "    x = 222\n",
        "    print(x) \n",
        "\n",
        "f1()\n",
        "print(x)\n",
        "\n",
        "x = 1\n",
        "\n",
        "def increase():\n",
        "    global x\n",
        "    x =  x + 1\n",
        "    print(x) \n",
        "\n",
        "increase()\n",
        "print(x)\n",
        "increase()\n",
        "increase()\n",
        "print(x)"
      ],
      "execution_count": null,
      "outputs": []
    },
    {
      "cell_type": "code",
      "metadata": {
        "id": "0iTCnsP2XZp9",
        "colab_type": "code",
        "colab": {}
      },
      "source": [
        "f1 = lambda x, y, z: x+2*y+3*z\n",
        "print(f1(2,3,1))"
      ],
      "execution_count": null,
      "outputs": []
    },
    {
      "cell_type": "code",
      "metadata": {
        "id": "4yywG1QvXiW0",
        "colab_type": "code",
        "colab": {}
      },
      "source": [
        "def myfunc(m):\n",
        "    return m*m\n",
        "\n",
        "my_list = [1, 3, 5, 7, 9]"
      ],
      "execution_count": null,
      "outputs": []
    },
    {
      "cell_type": "code",
      "metadata": {
        "id": "SykQCBLVXrPI",
        "colab_type": "code",
        "colab": {}
      },
      "source": [
        "map(lambda x:myfunc(x), my_list)"
      ],
      "execution_count": null,
      "outputs": []
    },
    {
      "cell_type": "code",
      "metadata": {
        "id": "5-YhdF2KXsft",
        "colab_type": "code",
        "colab": {}
      },
      "source": [
        "def fib(n):\n",
        "    if n==1 or n==2:\n",
        "        return 1\n",
        "    return fib(n-1)+fib(n-2)\n",
        "\n",
        "print(fib(10))"
      ],
      "execution_count": null,
      "outputs": []
    },
    {
      "cell_type": "code",
      "metadata": {
        "id": "vGN6cuGSXxbG",
        "colab_type": "code",
        "colab": {}
      },
      "source": [
        "def fib(n):\n",
        "    a,b = 1,1\n",
        "    for i in range(n-1):\n",
        "        a,b = b,a+b\n",
        "    return a\n",
        " \n",
        "\n",
        "print(fib(10))"
      ],
      "execution_count": null,
      "outputs": []
    },
    {
      "cell_type": "code",
      "metadata": {
        "id": "DNnchwo4X5FP",
        "colab_type": "code",
        "colab": {}
      },
      "source": [
        "def fib(x):\t\n",
        "\tglobal numFibCalls\n",
        "\tnumFibCalls += 1\n",
        "\t\n",
        "\tif x == 0 or x == 1:\n",
        "           return 1\n",
        "\telse:\n",
        "          return fib(x-1) + fib(x-2)\n",
        "\n",
        "def testFib(n):\n",
        "\tfor i in range(n+1):\n",
        "          global numFibCalls\n",
        "          numFibCalls = 0\n",
        "          print('fib of', i, '=', fib(i))\n",
        "          print('fib called', numFibCalls, 'times.')\n",
        "\n",
        "testFib(4)"
      ],
      "execution_count": null,
      "outputs": []
    },
    {
      "cell_type": "code",
      "metadata": {
        "id": "5NcF9gcnX9Yn",
        "colab_type": "code",
        "colab": {}
      },
      "source": [
        "hex(255)\n",
        "\n",
        "hex(-42)\n",
        "\n",
        "\"\"\"### oct(x):Convert an integer number to an octal string prefixed with “0o”\"\"\"\n",
        "\n",
        "oct(8)\n",
        "\n",
        "oct(-56)\n",
        "\n",
        "\"\"\"### bin(x):Convert an integer number to a binary string prefixed with “0b”\"\"\"\n",
        "\n",
        "bin(3)\n",
        "\n",
        "bin(-10)"
      ],
      "execution_count": null,
      "outputs": []
    }
  ]
}