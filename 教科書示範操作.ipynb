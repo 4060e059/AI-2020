{
  "nbformat": 4,
  "nbformat_minor": 0,
  "metadata": {
    "colab": {
      "name": "教科書示範操作.ipynb",
      "provenance": [],
      "authorship_tag": "ABX9TyOJ1K5UOnSDvroZ1Up0tRZM",
      "include_colab_link": true
    },
    "kernelspec": {
      "name": "python3",
      "display_name": "Python 3"
    }
  },
  "cells": [
    {
      "cell_type": "markdown",
      "metadata": {
        "id": "view-in-github",
        "colab_type": "text"
      },
      "source": [
        "<a href=\"https://colab.research.google.com/github/4060e059/base-python/blob/master/%E6%95%99%E7%A7%91%E6%9B%B8%E7%A4%BA%E7%AF%84%E6%93%8D%E4%BD%9C.ipynb\" target=\"_parent\"><img src=\"https://colab.research.google.com/assets/colab-badge.svg\" alt=\"Open In Colab\"/></a>"
      ]
    },
    {
      "cell_type": "code",
      "metadata": {
        "id": "7t5Evwzp6KZY"
      },
      "source": [
        "!git clone https://github.com/4060e059/base-python.git"
      ],
      "execution_count": null,
      "outputs": []
    },
    {
      "cell_type": "code",
      "metadata": {
        "id": "ifatn8HJVj1Z"
      },
      "source": [
        "ls"
      ],
      "execution_count": null,
      "outputs": []
    },
    {
      "cell_type": "code",
      "metadata": {
        "id": "nE-PPh_hVmqh"
      },
      "source": [
        "cd base-python"
      ],
      "execution_count": null,
      "outputs": []
    },
    {
      "cell_type": "code",
      "metadata": {
        "id": "Sg5RvErVVqsB"
      },
      "source": [
        "ls"
      ],
      "execution_count": null,
      "outputs": []
    },
    {
      "cell_type": "code",
      "metadata": {
        "id": "q98p2uZmVs2Z"
      },
      "source": [
        "cd 1.基本輸入輸出/"
      ],
      "execution_count": null,
      "outputs": []
    },
    {
      "cell_type": "code",
      "metadata": {
        "id": "ma8Evr2KV15R"
      },
      "source": [
        "ls"
      ],
      "execution_count": null,
      "outputs": []
    },
    {
      "cell_type": "code",
      "metadata": {
        "id": "pduUHgg9V7Rx"
      },
      "source": [
        "cat 基本輸入輸出.ipynb"
      ],
      "execution_count": null,
      "outputs": []
    }
  ]
}